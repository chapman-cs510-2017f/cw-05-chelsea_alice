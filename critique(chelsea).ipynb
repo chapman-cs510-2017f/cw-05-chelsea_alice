{
 "cells": [
  {
   "cell_type": "markdown",
   "metadata": {
    "collapsed": false
   },
   "source": [
    "Comments  (Chelsea's Code):\n",
    "* was missing docstring (added)\n",
    "* indentation\n",
    "* more inline comments to explain the double loops\n",
    "* notebook was clear and had analysis of the problem\n",
    "Score: 95"
   ]
  },
  {
   "cell_type": "markdown",
   "metadata": {
    "collapsed": false
   },
   "source": [
    "Comments  (Alice's Code):\n",
    "* was missing docstring (added)\n",
    "* indentation good!\n",
    "* really cool use of lambda function, I bet it runs really efficiently\n",
    "* only did  1 of 3 functions\n",
    "* GREAT test cases\n",
    "* unfinished ipynb\n",
    "Score: 80"
   ]
  }
 ],
 "metadata": {
  "kernelspec": {
   "display_name": "Python 3 (Anaconda)",
   "language": "python",
   "name": "anaconda3"
  },
  "language_info": {
   "codemirror_mode": {
    "name": "ipython",
    "version": 3
   },
   "file_extension": ".py",
   "mimetype": "text/x-python",
   "name": "python",
   "nbconvert_exporter": "python",
   "pygments_lexer": "ipython3",
   "version": "3.5.4"
  }
 },
 "nbformat": 4,
 "nbformat_minor": 0
}