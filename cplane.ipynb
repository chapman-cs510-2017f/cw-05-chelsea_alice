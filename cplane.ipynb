{
 "cells": [
  {
   "cell_type": "code",
   "execution_count": 1,
   "metadata": {
    "collapsed": false
   },
   "outputs": [
    {
     "name": "stdout",
     "output_type": "stream",
     "text": [
      "[[(1+0j), (1+1.25j), (1+2.5j), (1+3.75j), (1+5j)], [(3.25+0j), (3.25+1.25j), (3.25+2.5j), (3.25+3.75j), (3.25+5j)], [(5.5+0j), (5.5+1.25j), (5.5+2.5j), (5.5+3.75j), (5.5+5j)], [(7.75+0j), (7.75+1.25j), (7.75+2.5j), (7.75+3.75j), (7.75+5j)], [(10+0j), (10+1.25j), (10+2.5j), (10+3.75j), (10+5j)]]\n",
      "[[(1+0j), (1+1.25j), (1+2.5j), (1+3.75j), (1+5j)], [(3.25+0j), (3.25+1.25j), (3.25+2.5j), (3.25+3.75j), (3.25+5j)], [(5.5+0j), (5.5+1.25j), (5.5+2.5j), (5.5+3.75j), (5.5+5j)], [(7.75+0j), (7.75+1.25j), (7.75+2.5j), (7.75+3.75j), (7.75+5j)], [(10+0j), (10+1.25j), (10+2.5j), (10+3.75j), (10+5j)]]\n",
      "[[(1+0j), (-0.5625+2.5j), (-5.25+5j), (-13.0625+7.5j), (-24+10j)], [(10.5625+0j), (9+8.125j), (4.3125+16.25j), (-3.5+24.375j), (-14.4375+32.5j)], [(30.25+0j), (28.6875+13.75j), (24+27.5j), (16.1875+41.25j), (5.25+55j)], [(60.0625+0j), (58.5+19.375j), (53.8125+38.75j), (46+58.125j), (35.0625+77.5j)], [(100+0j), (98.4375+25j), (93.75+50j), (85.9375+75j), (75+100j)]]\n"
     ]
    }
   ],
   "source": [
    "from cplane import *\n",
    "import abscplane\n",
    "from abc import ABC, abstractmethod\n",
    "from matplotlib import pyplot\n",
    "#test\n",
    "a = ListComplexPlane(xmin = 1, xmax = 10, xlen =  5,ymin =0, ymax = 5, ylen = 5)\n",
    "ff = lambda x: x**2\n",
    "a.apply(ff)"
   ]
  },
  {
   "cell_type": "code",
   "execution_count": 0,
   "metadata": {
    "collapsed": false
   },
   "outputs": [
   ],
   "source": [
   ]
  }
 ],
 "metadata": {
  "kernelspec": {
   "display_name": "Python 3 (Anaconda)",
   "language": "python",
   "name": "anaconda3"
  },
  "language_info": {
   "codemirror_mode": {
    "name": "ipython",
    "version": 3
   },
   "file_extension": ".py",
   "mimetype": "text/x-python",
   "name": "python",
   "nbconvert_exporter": "python",
   "pygments_lexer": "ipython3",
   "version": "3.5.4"
  }
 },
 "nbformat": 4,
 "nbformat_minor": 0
}