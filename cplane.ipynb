{
 "cells": [
  {
   "cell_type": "code",
   "execution_count": 1,
   "metadata": {
    "collapsed": false
   },
   "outputs": [
    {
     "name": "stdout",
     "output_type": "stream",
     "text": [
      "init fx\n",
      "[[(10+2j), (10+5j), (10+8j)], [(12.5+2j), (12.5+5j), (12.5+8j)], [(15+2j), (15+5j), (15+8j)]]\n",
      "apply fx\n",
      "[[(96+40j), (75+100j), (36+160j)], [(152.25+50j), (131.25+125j), (92.25+200j)], [(221+60j), (200+150j), (161+240j)]]\n",
      "zoom fx\n",
      "[[(5+5j), (5+7.5j), (5+10j)], [(7.5+5j), (7.5+7.5j), (7.5+10j)], [(10+5j), (10+7.5j), (10+10j)]]\n",
      "apply fx\n",
      "[[50j, (-31.25+75j), (-75+100j)], [(31.25+75j), 112.5j, (-43.75+150j)], [(75+100j), (43.75+150j), 200j]]\n",
      "refresh fx\n",
      "[[(5+5j), (5+7.5j), (5+10j)], [(7.5+5j), (7.5+7.5j), (7.5+10j)], [(10+5j), (10+7.5j), (10+10j)]]\n"
     ]
    }
   ],
   "source": [
    "from cplane import *\n",
    "import abscplane\n",
    "from abc import ABC, abstractmethod\n",
    "from matplotlib import pyplot\n",
    "#test\n",
    "a = ListComplexPlane(xmin = 10, xmax = 15, xlen =  3,ymin =2, ymax = 8, ylen = 3)\n",
    "ff = lambda x: x**2\n",
    "#f2 = lambda x: x+2\n",
    "a.apply(ff)\n",
    "#a.apply(f2)\n",
    "a.zoom(newxmin = 5, newxmax = 10, newxlen =  3,newymin =5, newymax = 10, newylen = 3)\n",
    "a.refresh()"
   ]
  },
  {
   "cell_type": "code",
   "execution_count": 2,
   "metadata": {
    "collapsed": false
   },
   "outputs": [
    {
     "name": "stdout",
     "output_type": "stream",
     "text": [
      "init fx\n",
      "[[(10+2j), (10+5j), (10+8j)], [(12.5+2j), (12.5+5j), (12.5+8j)], [(15+2j), (15+5j), (15+8j)]]\n",
      "apply fx\n",
      "[[(96+40j), (75+100j), (36+160j)], [(152.25+50j), (131.25+125j), (92.25+200j)], [(221+60j), (200+150j), (161+240j)]]\n",
      "zoom fx\n",
      "[[(5+5j), (5+7.5j), (5+10j)], [(7.5+5j), (7.5+7.5j), (7.5+10j)], [(10+5j), (10+7.5j), (10+10j)]]\n",
      "apply fx\n",
      "[[50j, (-31.25+75j), (-75+100j)], [(31.25+75j), 112.5j, (-43.75+150j)], [(75+100j), (43.75+150j), 200j]]\n",
      "refresh fx\n",
      "[[(5+5j), (5+7.5j), (5+10j)], [(7.5+5j), (7.5+7.5j), (7.5+10j)], [(10+5j), (10+7.5j), (10+10j)]]\n"
     ]
    }
   ],
   "source": [
    "import test_cplane\n",
    "test_cplane.test_cplane()\n"
   ]
  },
  {
   "cell_type": "markdown",
   "metadata": {
    "collapsed": false
   },
   "source": [
    "#Abstract Classes\n",
    "An abstract class helps organize your code and allows you to use it as a base class for multiple child classes. It can set up different methods you want to use or attributes you'll need to have without being an  implementable class."
   ]
  }
 ],
 "metadata": {
  "kernelspec": {
   "display_name": "Python 3 (Anaconda)",
   "language": "python",
   "name": "anaconda3"
  },
  "language_info": {
   "codemirror_mode": {
    "name": "ipython",
    "version": 3
   },
   "file_extension": ".py",
   "mimetype": "text/x-python",
   "name": "python",
   "nbconvert_exporter": "python",
   "pygments_lexer": "ipython3",
   "version": "3.5.4"
  }
 },
 "nbformat": 4,
 "nbformat_minor": 0
}